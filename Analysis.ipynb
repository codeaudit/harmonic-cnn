{
 "cells": [
  {
   "cell_type": "markdown",
   "metadata": {},
   "source": [
    "# Analysis Notebook\n",
    "Analysis for each of [cqt/wcqt/hcqt], and then comparison between them."
   ]
  },
  {
   "cell_type": "code",
   "execution_count": null,
   "metadata": {
    "collapsed": false
   },
   "outputs": [],
   "source": [
    "## General Functions & Data Loading\n",
    "import claudio\n",
    "import librosa\n",
    "import numpy as np\n",
    "import os\n",
    "import pandas\n",
    "import pprint\n",
    "import wcqtlib.config as C\n",
    "import wcqtlib.common.utils as utils\n",
    "import wcqtlib.train.analyze\n",
    "import wcqtlib.train.models\n",
    "\n",
    "%matplotlib inline\n",
    "import seaborn\n",
    "import mpld3\n",
    "import matplotlib.pyplot as plt\n",
    "\n",
    "seaborn.set()\n",
    "np.set_printoptions(precision=4, suppress=True)\n",
    "mpld3.enable_notebook()\n",
    "\n",
    "config = C.Config.from_yaml(\"./data/master_config.yaml\")\n",
    "\n",
    "# Paths\n",
    "extract_path = os.path.expanduser(config[\"paths/extract_dir\"])\n",
    "models_dir = os.path.expanduser(config[\"paths/model_dir\"])\n",
    "datasets_file = config['dataframes/datasets']\n",
    "notes_file = config['dataframes/notes']\n",
    "features_df_fn = config['dataframes/features']\n",
    "datasets_path = os.path.join(extract_path, datasets_file)\n",
    "notes_path = os.path.join(extract_path, notes_file)\n",
    "features_path = os.path.join(extract_path, features_df_fn)\n",
    "# Load DataFrames\n",
    "datasets_df = pandas.read_json(datasets_path)\n",
    "notes_df = pandas.read_pickle(notes_path)\n",
    "features_df = pandas.read_pickle(features_path)\n",
    "\n",
    "def analyze_experiment(modeldef, name):\n",
    "    analysis_file = os.path.join(models_dir, modeldef[0], config['experiment/analysis_format'].format(modeldef[1]))\n",
    "    analysis = wcqtlib.train.analyze.PredictionAnalyzer.load(analysis_file)\n",
    "\n",
    "    # Overall Results\n",
    "    summary_scores = analysis.dataset_summary()\n",
    "#     plt.figure()\n",
    "#     summary_scores.dropna().T.plot.bar()\n",
    "    \n",
    "    class_scores = analysis.dataset_class_wise()\n",
    "    print(class_scores)\n",
    "#     plt.figure()\n",
    "#     class_scores.dropna().plot.bar()"
   ]
  },
  {
   "cell_type": "markdown",
   "metadata": {},
   "source": [
    "## First, select a model for each\n",
    "Make sure you have done model selection, prediction, and analysis for each model\n",
    "As follows:\n",
    "```\n",
    " > python manage.py model_selection <experiment_name> \n",
    " > python manage.py predict <experiment_name> \n",
    " > python manage.py analyze <experiment_name> \n",
    "```"
   ]
  },
  {
   "cell_type": "code",
   "execution_count": null,
   "metadata": {
    "collapsed": false
   },
   "outputs": [],
   "source": [
    "available_models = wcqtlib.train.models.list_models(config)\n",
    "pprint.pprint(available_models)"
   ]
  },
  {
   "cell_type": "code",
   "execution_count": null,
   "metadata": {
    "collapsed": true
   },
   "outputs": [],
   "source": [
    "# FILL IN YOUR SELECTED MODEL HERE\n",
    "#  In the form (model_name, )\n",
    "cqt_model = (\"exp005\", \"final\")\n",
    "wcqt_model = \"\"\n",
    "hcqt_model = \"\""
   ]
  },
  {
   "cell_type": "markdown",
   "metadata": {},
   "source": [
    "## CQT Analysis"
   ]
  },
  {
   "cell_type": "code",
   "execution_count": null,
   "metadata": {
    "collapsed": false,
    "scrolled": false
   },
   "outputs": [],
   "source": [
    "analyze_experiment(cqt_model, \"CQT\")"
   ]
  },
  {
   "cell_type": "markdown",
   "metadata": {},
   "source": [
    "## WCQT Analysis"
   ]
  },
  {
   "cell_type": "markdown",
   "metadata": {},
   "source": [
    "## HCQT Analysis"
   ]
  },
  {
   "cell_type": "code",
   "execution_count": null,
   "metadata": {
    "collapsed": true
   },
   "outputs": [],
   "source": []
  }
 ],
 "metadata": {
  "kernelspec": {
   "display_name": "Python 3",
   "language": "python",
   "name": "python3"
  },
  "language_info": {
   "codemirror_mode": {
    "name": "ipython",
    "version": 3
   },
   "file_extension": ".py",
   "mimetype": "text/x-python",
   "name": "python",
   "nbconvert_exporter": "python",
   "pygments_lexer": "ipython3",
   "version": "3.5.1"
  }
 },
 "nbformat": 4,
 "nbformat_minor": 0
}
