{
 "cells": [
  {
   "cell_type": "markdown",
   "metadata": {},
   "source": [
    "# Analysis Notebook\n",
    "Analysis for each of [cqt/wcqt/hcqt], and then comparison between them."
   ]
  },
  {
   "cell_type": "code",
   "execution_count": 3,
   "metadata": {
    "collapsed": false
   },
   "outputs": [
    {
     "ename": "ImportError",
     "evalue": "No module named 'hcnn.train.analyze'",
     "output_type": "error",
     "traceback": [
      "\u001b[0;31m---------------------------------------------------------------------------\u001b[0m",
      "\u001b[0;31mImportError\u001b[0m                               Traceback (most recent call last)",
      "\u001b[0;32m<ipython-input-3-88907277ec16>\u001b[0m in \u001b[0;36m<module>\u001b[0;34m()\u001b[0m\n\u001b[1;32m      8\u001b[0m \u001b[0;32mimport\u001b[0m \u001b[0mhcnn\u001b[0m\u001b[0;34m.\u001b[0m\u001b[0mcommon\u001b[0m\u001b[0;34m.\u001b[0m\u001b[0mconfig\u001b[0m \u001b[0;32mas\u001b[0m \u001b[0mC\u001b[0m\u001b[0;34m\u001b[0m\u001b[0m\n\u001b[1;32m      9\u001b[0m \u001b[0;32mimport\u001b[0m \u001b[0mhcnn\u001b[0m\u001b[0;34m.\u001b[0m\u001b[0mcommon\u001b[0m\u001b[0;34m.\u001b[0m\u001b[0mutils\u001b[0m \u001b[0;32mas\u001b[0m \u001b[0mutils\u001b[0m\u001b[0;34m\u001b[0m\u001b[0m\n\u001b[0;32m---> 10\u001b[0;31m \u001b[0;32mimport\u001b[0m \u001b[0mhcnn\u001b[0m\u001b[0;34m.\u001b[0m\u001b[0mtrain\u001b[0m\u001b[0;34m.\u001b[0m\u001b[0manalyze\u001b[0m\u001b[0;34m\u001b[0m\u001b[0m\n\u001b[0m\u001b[1;32m     11\u001b[0m \u001b[0;32mimport\u001b[0m \u001b[0mhcnn\u001b[0m\u001b[0;34m.\u001b[0m\u001b[0mtrain\u001b[0m\u001b[0;34m.\u001b[0m\u001b[0mmodels\u001b[0m\u001b[0;34m\u001b[0m\u001b[0m\n\u001b[1;32m     12\u001b[0m \u001b[0;34m\u001b[0m\u001b[0m\n",
      "\u001b[0;31mImportError\u001b[0m: No module named 'hcnn.train.analyze'"
     ]
    }
   ],
   "source": [
    "## General Functions & Data Loading\n",
    "import claudio\n",
    "import librosa\n",
    "import numpy as np\n",
    "import os\n",
    "import pandas\n",
    "import pprint\n",
    "import hcnn.common.config as C\n",
    "import hcnn.common.utils as utils\n",
    "import hcnn.train.analyze\n",
    "import hcnn.train.models\n",
    "\n",
    "%matplotlib inline\n",
    "import seaborn\n",
    "import mpld3\n",
    "import matplotlib.pyplot as plt\n",
    "\n",
    "seaborn.set()\n",
    "np.set_printoptions(precision=4, suppress=True)\n",
    "mpld3.enable_notebook()\n",
    "\n",
    "config = C.Config.from_yaml(\"./data/master_config.yaml\")\n",
    "\n",
    "# Paths\n",
    "models_dir = os.path.expanduser(config[\"paths/model_dir\"])\n",
    "datasets_file = config['dataframes/datasets']\n",
    "notes_file = config['dataframes/notes']\n",
    "features_df_fn = config['dataframes/features']\n",
    "datasets_path = os.path.join(extract_path, datasets_file)\n",
    "notes_path = os.path.join(extract_path, notes_file)\n",
    "features_path = os.path.join(extract_path, features_df_fn)\n",
    "# Load DataFrames\n",
    "datasets_df = pandas.read_json(datasets_path)\n",
    "notes_df = pandas.read_pickle(notes_path)\n",
    "features_df = pandas.read_pickle(features_path)\n",
    "\n",
    "def analyze_experiment(modeldef, name):\n",
    "    analysis_file = os.path.join(models_dir, modeldef[0], config['experiment/analysis_format'].format(modeldef[1]))\n",
    "    analysis = wcqtlib.train.analyze.PredictionAnalyzer.load(analysis_file)\n",
    "\n",
    "    # Overall Results\n",
    "#     summary_scores = analysis.dataset_summary()\n",
    "#     plt.figure()\n",
    "#     summary_scores.dropna().T.plot.bar()\n",
    "    \n",
    "    class_scores = analysis.dataset_class_wise()\n",
    "    print(class_scores)\n",
    "#     plt.figure()\n",
    "#     class_scores.dropna().plot.bar()"
   ]
  },
  {
   "cell_type": "markdown",
   "metadata": {},
   "source": [
    "## First, select a model for each\n",
    "Make sure you have done model selection, prediction, and analysis for each model\n",
    "As follows:\n",
    "```\n",
    " > python manage.py model_selection <experiment_name> \n",
    " > python manage.py predict <experiment_name> \n",
    " > python manage.py analyze <experiment_name> \n",
    "```"
   ]
  },
  {
   "cell_type": "code",
   "execution_count": null,
   "metadata": {
    "collapsed": false
   },
   "outputs": [],
   "source": [
    "available_models = wcqtlib.train.models.list_models(config)\n",
    "pprint.pprint(available_models)"
   ]
  },
  {
   "cell_type": "code",
   "execution_count": null,
   "metadata": {
    "collapsed": true
   },
   "outputs": [],
   "source": [
    "# FILL IN YOUR SELECTED MODEL HERE\n",
    "#  In the form (model_name, )\n",
    "cqt_model = (\"exp005\", \"final\")\n",
    "wcqt_model = \"\"\n",
    "hcqt_model = \"\""
   ]
  },
  {
   "cell_type": "markdown",
   "metadata": {},
   "source": [
    "## CQT Analysis"
   ]
  },
  {
   "cell_type": "code",
   "execution_count": null,
   "metadata": {
    "collapsed": false,
    "scrolled": false
   },
   "outputs": [],
   "source": [
    "analyze_experiment(cqt_model, \"CQT\")"
   ]
  },
  {
   "cell_type": "markdown",
   "metadata": {},
   "source": [
    "## WCQT Analysis"
   ]
  },
  {
   "cell_type": "markdown",
   "metadata": {},
   "source": [
    "## HCQT Analysis"
   ]
  },
  {
   "cell_type": "code",
   "execution_count": 32,
   "metadata": {
    "collapsed": true
   },
   "outputs": [],
   "source": [
    "import pandas as pd\n",
    "import os\n",
    "import json\n",
    "results_dir = \"./results\"\n",
    "\n",
    "def load_results(model_name):\n",
    "    selected_model = model_name\n",
    "    model_dir = os.path.join(results_dir, selected_model)\n",
    "    results_json = os.path.join(model_dir, \"experiment_results.json\")\n",
    "\n",
    "    with open(results_json, 'r') as fh:\n",
    "        results = json.load(fh)\n",
    "    return pd.DataFrame(results)\n",
    "    \n",
    "MF_resutls = load_results(\"cqt_MF_n16\")\n",
    "M2_results = load_results(\"cqt_M2_n8\")\n",
    "MH_results = load_results(\"hcqt_MH_n8\")"
   ]
  },
  {
   "cell_type": "code",
   "execution_count": 33,
   "metadata": {
    "collapsed": false,
    "scrolled": false
   },
   "outputs": [
    {
     "data": {
      "text/html": [
       "<div>\n",
       "<table border=\"1\" class=\"dataframe\">\n",
       "  <thead>\n",
       "    <tr style=\"text-align: right;\">\n",
       "      <th></th>\n",
       "      <th>mean_accuracy</th>\n",
       "      <th>mean_precision</th>\n",
       "      <th>mean_recall</th>\n",
       "      <th>mean_f1</th>\n",
       "    </tr>\n",
       "  </thead>\n",
       "  <tbody>\n",
       "    <tr>\n",
       "      <th>experiment</th>\n",
       "      <td>cqt_MF_n16</td>\n",
       "      <td>cqt_MF_n16</td>\n",
       "      <td>cqt_MF_n16</td>\n",
       "      <td>cqt_MF_n16</td>\n",
       "    </tr>\n",
       "    <tr>\n",
       "      <th>philharmonia</th>\n",
       "      <td>0.105908</td>\n",
       "      <td>0.0788645</td>\n",
       "      <td>0.102196</td>\n",
       "      <td>0.079469</td>\n",
       "    </tr>\n",
       "    <tr>\n",
       "      <th>rwc</th>\n",
       "      <td>0.0722865</td>\n",
       "      <td>0.0797817</td>\n",
       "      <td>0.0799759</td>\n",
       "      <td>0.0506909</td>\n",
       "    </tr>\n",
       "    <tr>\n",
       "      <th>uiowa</th>\n",
       "      <td>0.0733568</td>\n",
       "      <td>0.0891573</td>\n",
       "      <td>0.0805619</td>\n",
       "      <td>0.0473988</td>\n",
       "    </tr>\n",
       "  </tbody>\n",
       "</table>\n",
       "</div>"
      ],
      "text/plain": [
       "             mean_accuracy mean_precision mean_recall     mean_f1\n",
       "experiment      cqt_MF_n16     cqt_MF_n16  cqt_MF_n16  cqt_MF_n16\n",
       "philharmonia      0.105908      0.0788645    0.102196    0.079469\n",
       "rwc              0.0722865      0.0797817   0.0799759   0.0506909\n",
       "uiowa            0.0733568      0.0891573   0.0805619   0.0473988"
      ]
     },
     "execution_count": 33,
     "metadata": {},
     "output_type": "execute_result"
    }
   ],
   "source": [
    "MF_resutls.T[[\"mean_accuracy\", \"mean_precision\", \"mean_recall\", \"mean_f1\"]]"
   ]
  },
  {
   "cell_type": "code",
   "execution_count": 34,
   "metadata": {
    "collapsed": false
   },
   "outputs": [
    {
     "data": {
      "text/html": [
       "<div>\n",
       "<table border=\"1\" class=\"dataframe\">\n",
       "  <thead>\n",
       "    <tr style=\"text-align: right;\">\n",
       "      <th></th>\n",
       "      <th>mean_accuracy</th>\n",
       "      <th>mean_precision</th>\n",
       "      <th>mean_recall</th>\n",
       "      <th>mean_f1</th>\n",
       "    </tr>\n",
       "  </thead>\n",
       "  <tbody>\n",
       "    <tr>\n",
       "      <th>experiment</th>\n",
       "      <td>cqt_M2_n8</td>\n",
       "      <td>cqt_M2_n8</td>\n",
       "      <td>cqt_M2_n8</td>\n",
       "      <td>cqt_M2_n8</td>\n",
       "    </tr>\n",
       "    <tr>\n",
       "      <th>philharmonia</th>\n",
       "      <td>0.0637465</td>\n",
       "      <td>0.129237</td>\n",
       "      <td>0.123358</td>\n",
       "      <td>0.0650723</td>\n",
       "    </tr>\n",
       "    <tr>\n",
       "      <th>rwc</th>\n",
       "      <td>0.138368</td>\n",
       "      <td>0.10269</td>\n",
       "      <td>0.127216</td>\n",
       "      <td>0.0919328</td>\n",
       "    </tr>\n",
       "    <tr>\n",
       "      <th>uiowa</th>\n",
       "      <td>0.113556</td>\n",
       "      <td>0.129524</td>\n",
       "      <td>0.136529</td>\n",
       "      <td>0.0961249</td>\n",
       "    </tr>\n",
       "  </tbody>\n",
       "</table>\n",
       "</div>"
      ],
      "text/plain": [
       "             mean_accuracy mean_precision mean_recall    mean_f1\n",
       "experiment       cqt_M2_n8      cqt_M2_n8   cqt_M2_n8  cqt_M2_n8\n",
       "philharmonia     0.0637465       0.129237    0.123358  0.0650723\n",
       "rwc               0.138368        0.10269    0.127216  0.0919328\n",
       "uiowa             0.113556       0.129524    0.136529  0.0961249"
      ]
     },
     "execution_count": 34,
     "metadata": {},
     "output_type": "execute_result"
    }
   ],
   "source": [
    "M2_results.T[[\"mean_accuracy\", \"mean_precision\", \"mean_recall\", \"mean_f1\"]]"
   ]
  },
  {
   "cell_type": "code",
   "execution_count": 35,
   "metadata": {
    "collapsed": false
   },
   "outputs": [
    {
     "data": {
      "text/html": [
       "<div>\n",
       "<table border=\"1\" class=\"dataframe\">\n",
       "  <thead>\n",
       "    <tr style=\"text-align: right;\">\n",
       "      <th></th>\n",
       "      <th>mean_accuracy</th>\n",
       "      <th>mean_precision</th>\n",
       "      <th>mean_recall</th>\n",
       "      <th>mean_f1</th>\n",
       "    </tr>\n",
       "  </thead>\n",
       "  <tbody>\n",
       "    <tr>\n",
       "      <th>experiment</th>\n",
       "      <td>hcqt_MH_n8</td>\n",
       "      <td>hcqt_MH_n8</td>\n",
       "      <td>hcqt_MH_n8</td>\n",
       "      <td>hcqt_MH_n8</td>\n",
       "    </tr>\n",
       "    <tr>\n",
       "      <th>philharmonia</th>\n",
       "      <td>0.152739</td>\n",
       "      <td>0.119719</td>\n",
       "      <td>0.178519</td>\n",
       "      <td>0.121887</td>\n",
       "    </tr>\n",
       "    <tr>\n",
       "      <th>rwc</th>\n",
       "      <td>0.114055</td>\n",
       "      <td>0.0995696</td>\n",
       "      <td>0.118932</td>\n",
       "      <td>0.0783093</td>\n",
       "    </tr>\n",
       "    <tr>\n",
       "      <th>uiowa</th>\n",
       "      <td>0.135563</td>\n",
       "      <td>0.143195</td>\n",
       "      <td>0.137097</td>\n",
       "      <td>0.103299</td>\n",
       "    </tr>\n",
       "  </tbody>\n",
       "</table>\n",
       "</div>"
      ],
      "text/plain": [
       "             mean_accuracy mean_precision mean_recall     mean_f1\n",
       "experiment      hcqt_MH_n8     hcqt_MH_n8  hcqt_MH_n8  hcqt_MH_n8\n",
       "philharmonia      0.152739       0.119719    0.178519    0.121887\n",
       "rwc               0.114055      0.0995696    0.118932   0.0783093\n",
       "uiowa             0.135563       0.143195    0.137097    0.103299"
      ]
     },
     "execution_count": 35,
     "metadata": {},
     "output_type": "execute_result"
    }
   ],
   "source": [
    "MH_results.T[[\"mean_accuracy\", \"mean_precision\", \"mean_recall\", \"mean_f1\"]]"
   ]
  },
  {
   "cell_type": "code",
   "execution_count": 36,
   "metadata": {
    "collapsed": true
   },
   "outputs": [],
   "source": [
    "def load_loss(model_name, hold_out):\n",
    "    selected_model = model_name\n",
    "    loss_dir = os.path.join(results_dir, selected_model, hold_out)\n",
    "    training_loss_fp = os.path.join(loss_dir, \"training_loss.pkl\")\n",
    "    validation_loss_fp = os.path.join(loss_dir, \"validation_loss.pkl\")\n",
    "    training_loss = pd.read_pickle(training_loss_fp)\n",
    "    validation_loss = pd.read_pickle(validation_loss_fp)\n",
    "    return training_loss, validation_loss"
   ]
  },
  {
   "cell_type": "code",
   "execution_count": 45,
   "metadata": {
    "collapsed": true
   },
   "outputs": [],
   "source": [
    "%matplotlib inline\n",
    "import seaborn\n",
    "# import mpld3\n",
    "\n",
    "seaborn.set()\n",
    "np.set_printoptions(precision=4, suppress=True)\n",
    "# mpld3.enable_notebook()\n",
    "import matplotlib.pyplot as plt"
   ]
  },
  {
   "cell_type": "code",
   "execution_count": 53,
   "metadata": {
    "collapsed": false,
    "scrolled": true
   },
   "outputs": [
    {
     "data": {
      "image/png": "[encoded data removed]",
      "text/plain": [
       "<matplotlib.figure.Figure at 0x10cef6f98>"
      ]
     },
     "metadata": {},
     "output_type": "display_data"
    }
   ],
   "source": [
    "training_loss, validation_loss = load_loss(\"cqt_MF_n16\", \"philharmonia\")\n",
    "plt.plot(training_loss['iteration'], training_loss['loss'])\n",
    "# plt.plot(validation_loss['model_iteration'], validation_loss['mean_loss'])\n",
    "plt.plot(validation_loss['model_iteration'], validation_loss['f1_weighted'])\n",
    "plt.show()"
   ]
  },
  {
   "cell_type": "code",
   "execution_count": null,
   "metadata": {
    "collapsed": true
   },
   "outputs": [],
   "source": []
  }
 ],
 "metadata": {
  "kernelspec": {
   "display_name": "Python 3",
   "language": "python",
   "name": "python3"
  },
  "language_info": {
   "codemirror_mode": {
    "name": "ipython",
    "version": 3
   },
   "file_extension": ".py",
   "mimetype": "text/x-python",
   "name": "python",
   "nbconvert_exporter": "python",
   "pygments_lexer": "ipython3",
   "version": "3.5.0"
  }
 },
 "nbformat": 4,
 "nbformat_minor": 0
}
