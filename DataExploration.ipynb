{
 "cells": [
  {
   "cell_type": "code",
   "execution_count": 2,
   "metadata": {
    "collapsed": false
   },
   "outputs": [],
   "source": [
    "import claudio\n",
    "import librosa\n",
    "import numpy as np\n",
    "import os\n",
    "import pandas\n",
    "import time\n",
    "import hcnn.common.config as C\n",
    "import hcnn.driver\n",
    "import hcnn.common.utils as utils\n",
    "import hcnn.train.streams\n",
    "import hcnn.data.cqt\n",
    "\n",
    "%matplotlib inline\n",
    "import seaborn\n",
    "# import mpld3\n",
    "\n",
    "seaborn.set()\n",
    "np.set_printoptions(precision=4, suppress=True)\n",
    "# mpld3.enable_notebook()\n",
    "\n",
    "config = C.Config.load(\"./data/integration_config.yaml\")"
   ]
  },
  {
   "cell_type": "code",
   "execution_count": 3,
   "metadata": {
    "collapsed": false
   },
   "outputs": [
    {
     "name": "stdout",
     "output_type": "stream",
     "text": [
      "[Parallel(n_jobs=-1)]: Done   1 tasks      | elapsed:    0.0s\n",
      "[Parallel(n_jobs=-1)]: Batch computation too fast (0.0061s.) Setting batch_size=64.\n",
      "[Parallel(n_jobs=-1)]: Done   2 tasks      | elapsed:    0.0s\n",
      "[Parallel(n_jobs=-1)]: Done   3 tasks      | elapsed:    0.0s\n",
      "[Parallel(n_jobs=-1)]: Done   4 tasks      | elapsed:    0.0s\n",
      "[Parallel(n_jobs=-1)]: Done   5 tasks      | elapsed:    0.0s\n",
      "[Parallel(n_jobs=-1)]: Done   6 tasks      | elapsed:    0.0s\n",
      "[Parallel(n_jobs=-1)]: Done   7 tasks      | elapsed:    0.0s\n",
      "[Parallel(n_jobs=-1)]: Done 360 out of 360 | elapsed:    0.0s finished\n",
      "Took 0.5953400135040283 seconds to load\n",
      "Total # Samples: 360\n"
     ]
    }
   ],
   "source": [
    "partitions = None  # ['rwc', 'uiowa', 'philharmonia']\n",
    "feature_mode = 'cqt'  # ['cqt', 'wcqt', 'hcqt']\n",
    "t0 = time.time()\n",
    "driver = hcnn.driver.Driver(config, partitions=partitions, feature_mode=feature_mode,\n",
    "                            load_features=True)\n",
    "t_end = time.time()\n",
    "print(\"Took\", t_end - t0, \"seconds to load\")\n",
    "print(\"Total # Samples:\", len(driver.dataset))\n",
    "sample_df = driver.dataset.to_df()\n",
    "assert not sample_df.empty"
   ]
  },
  {
   "cell_type": "code",
   "execution_count": 67,
   "metadata": {
    "collapsed": false
   },
   "outputs": [],
   "source": [
    "import matplotlib.pyplot as plt\n",
    "def viz_audio(record, downsample_rate=150):\n",
    "    \"\"\"Plot the audio from a record\"\"\"\n",
    "    audio_path = record[\"audio_file\"][0]\n",
    "    audio, sr = claudio.read(audio_path, channels=1)\n",
    "    print(\"N samples: {}\\nDuration: {:.3f}s\\nsr: {}\".format(audio.shape[0], len(audio)/sr, sr))\n",
    "    \n",
    "    plt.figure(figsize=(6, 2))\n",
    "    print(audio.shape)\n",
    "    plt.plot(audio[::downsample_rate])\n",
    "    \n",
    "\n",
    "def play_audio(record):\n",
    "    \"\"\"Play the audio from a record\"\"\"\n",
    "    import claudio.sound\n",
    "    audio, sr = claudio.read(path, channels=1)\n",
    "    claudio.sound.soundsc(audio, sr)\n",
    "\n",
    "    \n",
    "def viz_features(record):\n",
    "    \"\"\"Vizualize the features from a record.\"\"\"\n",
    "    import librosa.display\n",
    "    cqt_path = record.cqt\n",
    "    cqt_feats = np.load(cqt_path)['cqt']\n",
    "    cqt = cqt_feats.reshape((cqt_feats.shape[1], cqt_feats.shape[2]))\n",
    "    print(\"CQT Shape:\", cqt.shape)\n",
    "    \n",
    "    \n",
    "    plt.figure(figsize=(8, 4))\n",
    "    librosa.display.specshow(cqt.T, x_axis='time', y_axis=\"cqt_hz\",\n",
    "                                 fmin=hcnn.data.cqt.CQT_PARAMS['fmin'], fmax=10000,\n",
    "                                 bins_per_octave=hcnn.data.cqt.CQT_PARAMS['bins_per_octave'])\n",
    "#     plt.imshow(np.log(cqt.T), aspect=\"auto\", interpolation=\"none\", cmap=\"OrRd\", origin='lower')\n",
    "#     plt.colorbar(format='%+2.0f dB')\n",
    "#     plt.title('Constant-Q power spectrogram (Hz)')\n",
    "    \n",
    "\n",
    "def viz_slicer(slicer, mode='cqt'):\n",
    "    \"\"\"Vizualize the features from a record.\"\"\"\n",
    "    import librosa.display\n",
    "    data = next(slicer)\n",
    "        \n",
    "    plt.figure(figsize=(8, 4))\n",
    "    if mode == 'cqt':\n",
    "        features = data['x_in'][0, 0, ::]\n",
    "#         plt.imshow(features.T, aspect=\"auto\", interpolation=\"none\", cmap=\"OrRd\", origin='lower')\n",
    "        \n",
    "        librosa.display.specshow(features.T, x_axis='time', y_axis=\"cqt_hz\",\n",
    "                                 fmin=hcnn.data.cqt.CQT_PARAMS['fmin'], fmax=8000,\n",
    "                                 bins_per_octave=hcnn.data.cqt.CQT_PARAMS['bins_per_octave'])\n",
    "        plt.colorbar(format='%+2.0f dB')\n",
    "        plt.title('Constant-Q power spectrogram (Hz); instrument={}'.format(data['target']))\n"
   ]
  },
  {
   "cell_type": "code",
   "execution_count": 75,
   "metadata": {
    "collapsed": false,
    "scrolled": false
   },
   "outputs": [
    {
     "name": "stdout",
     "output_type": "stream",
     "text": [
      "Path: Guitar.pp.sulD.D3B3.mono_9.flac from uiowa instrument: guitar\n",
      "CQT Shape: (167, 204)\n"
     ]
    },
    {
     "data": {
      "image/png": "[encoded data removed]",
      "text/plain": [
       "<matplotlib.figure.Figure at 0x10e8350f0>"
      ]
     },
     "metadata": {},
     "output_type": "display_data"
    }
   ],
   "source": [
    "sample = sample_df.sample().iloc[0]\n",
    "# print(sample)\n",
    "\n",
    "path = sample.audio_file\n",
    "dataset = sample.dataset\n",
    "instrument = sample.instrument\n",
    "assert 'cqt' in sample\n",
    "print(\"Path:\", os.path.basename(path), \"from\", dataset, \"instrument:\", instrument)\n",
    "\n",
    "# # viz_audio(sample)\n",
    "viz_features(sample)\n",
    "\n",
    "# play_audio(sample)"
   ]
  },
  {
   "cell_type": "code",
   "execution_count": 81,
   "metadata": {
    "collapsed": false
   },
   "outputs": [
    {
     "data": {
      "image/png": "[encoded data removed]",
      "text/plain": [
       "<matplotlib.figure.Figure at 0x1098fdc18>"
      ]
     },
     "metadata": {},
     "output_type": "display_data"
    }
   ],
   "source": [
    "t_len = 8\n",
    "cqt_slicer = hcnn.train.streams.cqt_slices(sample, t_len)\n",
    "wcqt_slicer = hcnn.train.streams.wcqt_slices(sample, t_len)\n",
    "hcqt_slicer = hcnn.train.streams.hcqt_slices(sample, t_len)\n",
    "\n",
    "# print(next(cqt_slicer))\n",
    "# # viz_audio(sample)\n",
    "viz_slicer(cqt_slicer, mode='cqt')"
   ]
  },
  {
   "cell_type": "code",
   "execution_count": null,
   "metadata": {
    "collapsed": true
   },
   "outputs": [],
   "source": []
  }
 ],
 "metadata": {
  "kernelspec": {
   "display_name": "Python 3",
   "language": "python",
   "name": "python3"
  },
  "language_info": {
   "codemirror_mode": {
    "name": "ipython",
    "version": 3
   },
   "file_extension": ".py",
   "mimetype": "text/x-python",
   "name": "python",
   "nbconvert_exporter": "python",
   "pygments_lexer": "ipython3",
   "version": "3.5.0"
  }
 },
 "nbformat": 4,
 "nbformat_minor": 0
}
