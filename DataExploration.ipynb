{
 "cells": [
  {
   "cell_type": "code",
   "execution_count": 1,
   "metadata": {
    "collapsed": false
   },
   "outputs": [
    {
     "name": "stderr",
     "output_type": "stream",
     "text": [
      "/Users/cjacoby/miniconda3/envs/ismir2016/lib/python3.5/site-packages/librosa/core/audio.py:37: UserWarning: Could not import scikits.samplerate. Falling back to scipy.signal\n",
      "  warnings.warn('Could not import scikits.samplerate. '\n"
     ]
    }
   ],
   "source": [
    "import claudio\n",
    "import librosa\n",
    "import numpy as np\n",
    "import os\n",
    "import pandas\n",
    "import wcqtlib.config as C\n",
    "import wcqtlib.common.utils as utils\n",
    "\n",
    "%matplotlib inline\n",
    "import seaborn\n",
    "import mpld3\n",
    "\n",
    "seaborn.set()\n",
    "np.set_printoptions(precision=4, suppress=True)\n",
    "mpld3.enable_notebook()\n",
    "\n",
    "config = C.Config.from_yaml(\"./data/master_config.yaml\")"
   ]
  },
  {
   "cell_type": "code",
   "execution_count": 8,
   "metadata": {
    "collapsed": false
   },
   "outputs": [],
   "source": [
    "extract_path = os.path.expanduser(config[\"paths/extract_dir\"])\n",
    "datasets_file = config['dataframes/datasets']\n",
    "datasets_path = os.path.join(extract_path, datasets_file)\n",
    "datasets_df = pandas.read_json(datasets_path)\n",
    "notes_file = config['dataframes/notes']\n",
    "notes_path = os.path.join(extract_path, notes_file)\n",
    "notes_df = pandas.read_pickle(notes_path)\n",
    "notes_df = notes_df\n",
    "features_df_fn = config['dataframes/features']\n",
    "features_path = os.path.join(extract_path, features_df_fn)\n",
    "features_df = pandas.read_pickle(features_path)"
   ]
  },
  {
   "cell_type": "code",
   "execution_count": null,
   "metadata": {
    "collapsed": false
   },
   "outputs": [],
   "source": [
    "import wcqtlib.data.parse\n",
    "new_notes_df = wcqtlib.data.parse.normalize_instrument_names(notes_df)\n",
    "new_notes_df.to_pickle(notes_path)\n",
    "new_features_df = wcqtlib.data.parse.normalize_instrument_names(features_df)\n",
    "new_features_df.to_pickle(features_path)"
   ]
  },
  {
   "cell_type": "code",
   "execution_count": null,
   "metadata": {
    "collapsed": false
   },
   "outputs": [],
   "source": [
    "print(notes_df[\"instrument\"].unique())\n",
    "print(features_df[\"instrument\"].unique())"
   ]
  },
  {
   "cell_type": "code",
   "execution_count": null,
   "metadata": {
    "collapsed": true
   },
   "outputs": [],
   "source": [
    "import matplotlib.pyplot as plt\n",
    "def viz_audio(record, downsample_rate=150):\n",
    "    \"\"\"Plot the audio from a record\"\"\"\n",
    "    audio_path = record[\"audio_file\"][0]\n",
    "    audio, sr = claudio.read(audio_path, channels=1)\n",
    "    print(\"N samples: {}\\nDuration: {:.3f}s\\nsr: {}\".format(audio.shape[0], len(audio)/sr, sr))\n",
    "    \n",
    "    plt.figure(figsize=(6, 2))\n",
    "    print(audio.shape)\n",
    "    plt.plot(audio[::downsample_rate])\n",
    "    \n",
    "\n",
    "def play_audio(record):\n",
    "    \"\"\"Play the audio from a record\"\"\"\n",
    "    import claudio.sound\n",
    "    audio, sr = claudio.read(path, channels=1)\n",
    "    claudio.sound.soundsc(audio, sr)\n",
    "\n",
    "    \n",
    "def viz_features(record):\n",
    "    \"\"\"Vizualize the features from a record.\"\"\"\n",
    "    import librosa.display\n",
    "    cqt_path = record[\"cqt\"][0]\n",
    "    cqt_feats = np.load(cqt_path)['cqt']\n",
    "    cqt = cqt_feats.reshape((cqt_feats.shape[1], cqt_feats.shape[2]))\n",
    "    print(\"CQT Shape:\", cqt.shape)\n",
    "    \n",
    "    plt.figure(figsize=(8, 4))\n",
    "#     librosa.display.specshow(cqt, y_axis=\"cqt_hz\")\n",
    "    plt.imshow(np.log(cqt), aspect=\"auto\", interpolation=\"none\", cmap=\"OrRd\")\n",
    "    plt.colorbar(format='%+2.0f dB')\n",
    "    plt.title('Constant-Q power spectrogram (Hz)')"
   ]
  },
  {
   "cell_type": "code",
   "execution_count": null,
   "metadata": {
    "collapsed": false,
    "scrolled": true
   },
   "outputs": [],
   "source": [
    "sample = features_df.sample()\n",
    "path = sample['audio_file'][0]\n",
    "dataset = sample['dataset'][0]\n",
    "instrument = sample['instrument'][0]\n",
    "print(\"Path:\", os.path.basename(path), \"from\", dataset, \"instrument:\", instrument)\n",
    "\n",
    "viz_audio(sample)\n",
    "viz_features(sample)\n",
    "\n",
    "play_audio(sample)"
   ]
  },
  {
   "cell_type": "code",
   "execution_count": null,
   "metadata": {
    "collapsed": true
   },
   "outputs": [],
   "source": [
    "import wcqtlib.data.cqt as cqt\n",
    "#cqt.cqt_from_df(data_root, extract_path, notes_df_fn, features_df_fn)"
   ]
  },
  {
   "cell_type": "code",
   "execution_count": 10,
   "metadata": {
    "collapsed": true
   },
   "outputs": [],
   "source": [
    "def check_instruments(df):\n",
    "    print(df[\"instrument\"].unique())"
   ]
  },
  {
   "cell_type": "code",
   "execution_count": 13,
   "metadata": {
    "collapsed": false
   },
   "outputs": [
    {
     "name": "stdout",
     "output_type": "stream",
     "text": [
      "                                                            audio_file  \\\n",
      "p00066b84 p00066b84                                              False   \n",
      "p0009a0d8 p0009a0d8                                              False   \n",
      "p0009ba67 p0009ba67                                              False   \n",
      "p000d4dfe p000d4dfe                                              False   \n",
      "p003eeaaf p003eeaaf                                              False   \n",
      "p0041e1c4 p0041e1c4                                              False   \n",
      "p00574656 p00574656                                              False   \n",
      "p0065d464 p0065d464                                              False   \n",
      "p006655e9 p006655e9  /Users/cjacoby/data/ismir2016-wcqt-data/philha...   \n",
      "p00674c0e p00674c0e                                              False   \n",
      "p0072df1b p0072df1b                                              False   \n",
      "p0074f368 p0074f368                                              False   \n",
      "p0093e4b3 p0093e4b3                                              False   \n",
      "p0096dd06 p0096dd06                                              False   \n",
      "p009a98b9 p009a98b9                                              False   \n",
      "p00a5d4c9 p00a5d4c9                                              False   \n",
      "p00af8aee p00af8aee                                              False   \n",
      "p00c471bc p00c471bc                                              False   \n",
      "p00e0a76b p00e0a76b                                              False   \n",
      "p00e2107e p00e2107e                                              False   \n",
      "p00e4631e p00e4631e                                              False   \n",
      "p00e5ee2a p00e5ee2a                                              False   \n",
      "p00f233a4 p00f233a4                                              False   \n",
      "p00f55f10 p00f55f10                                              False   \n",
      "p01076469 p01076469                                              False   \n",
      "p011907f9 p011907f9                                              False   \n",
      "p011c78e1 p011c78e1                                              False   \n",
      "p012c2068 p012c2068                                              False   \n",
      "p01311b36 p01311b36                                              False   \n",
      "p013ad939 p013ad939                                              False   \n",
      "...                                                                ...   \n",
      "ufb0fb6f7 ua88a936a  /Users/cjacoby/data/ismir2016-wcqt-data/uiowa/...   \n",
      "          udd689160  /Users/cjacoby/data/ismir2016-wcqt-data/uiowa/...   \n",
      "          u05bc6cea  /Users/cjacoby/data/ismir2016-wcqt-data/uiowa/...   \n",
      "          u44775c09                                              False   \n",
      "ufbb9681e ufd9a21f7                                              False   \n",
      "ufc3164e7 u9e62751d  /Users/cjacoby/data/ismir2016-wcqt-data/uiowa/...   \n",
      "          u7ae9d253  /Users/cjacoby/data/ismir2016-wcqt-data/uiowa/...   \n",
      "          u2204ed9b  /Users/cjacoby/data/ismir2016-wcqt-data/uiowa/...   \n",
      "          u2b2a2332  /Users/cjacoby/data/ismir2016-wcqt-data/uiowa/...   \n",
      "          u00b77adb  /Users/cjacoby/data/ismir2016-wcqt-data/uiowa/...   \n",
      "          u0f27974c  /Users/cjacoby/data/ismir2016-wcqt-data/uiowa/...   \n",
      "          u77e50cd4  /Users/cjacoby/data/ismir2016-wcqt-data/uiowa/...   \n",
      "          ub89e748f  /Users/cjacoby/data/ismir2016-wcqt-data/uiowa/...   \n",
      "          ua2244f09  /Users/cjacoby/data/ismir2016-wcqt-data/uiowa/...   \n",
      "          u2255d871                                              False   \n",
      "ufd0dacfa u920d3e4f  /Users/cjacoby/data/ismir2016-wcqt-data/uiowa/...   \n",
      "ufd8bbf9a uf5e88f5b  /Users/cjacoby/data/ismir2016-wcqt-data/uiowa/...   \n",
      "uff9ecd33 ufc2e25b6  /Users/cjacoby/data/ismir2016-wcqt-data/uiowa/...   \n",
      "          u9f1a61b8  /Users/cjacoby/data/ismir2016-wcqt-data/uiowa/...   \n",
      "          u094d9a23  /Users/cjacoby/data/ismir2016-wcqt-data/uiowa/...   \n",
      "          ucbf65451  /Users/cjacoby/data/ismir2016-wcqt-data/uiowa/...   \n",
      "          uc9675d8d  /Users/cjacoby/data/ismir2016-wcqt-data/uiowa/...   \n",
      "          uabd6f13a  /Users/cjacoby/data/ismir2016-wcqt-data/uiowa/...   \n",
      "          ubd087bff  /Users/cjacoby/data/ismir2016-wcqt-data/uiowa/...   \n",
      "          uaa9af2b8  /Users/cjacoby/data/ismir2016-wcqt-data/uiowa/...   \n",
      "          ubaaabe18  /Users/cjacoby/data/ismir2016-wcqt-data/uiowa/...   \n",
      "          u710f776b  /Users/cjacoby/data/ismir2016-wcqt-data/uiowa/...   \n",
      "          u4480f704  /Users/cjacoby/data/ismir2016-wcqt-data/uiowa/...   \n",
      "          u74c4f3d9  /Users/cjacoby/data/ismir2016-wcqt-data/uiowa/...   \n",
      "          u6d04a3f3                                              False   \n",
      "\n",
      "                          dataset        dynamic   instrument  \n",
      "p00066b84 p00066b84  philharmonia     fortissimo         tuba  \n",
      "p0009a0d8 p0009a0d8  philharmonia    mezzo-piano        flute  \n",
      "p0009ba67 p0009ba67  philharmonia    mezzo-forte  horn-french  \n",
      "p000d4dfe p000d4dfe  philharmonia    mezzo-forte  horn-french  \n",
      "p003eeaaf p003eeaaf  philharmonia    mezzo-piano         tuba  \n",
      "p0041e1c4 p0041e1c4  philharmonia     fortissimo     trombone  \n",
      "p00574656 p00574656  philharmonia          forte     clarinet  \n",
      "p0065d464 p0065d464  philharmonia          piano      bassoon  \n",
      "p006655e9 p006655e9  philharmonia  cresc-decresc  horn-french  \n",
      "p00674c0e p00674c0e  philharmonia     fortissimo      trumpet  \n",
      "p0072df1b p0072df1b  philharmonia          piano  horn-french  \n",
      "p0074f368 p0074f368  philharmonia    mezzo-forte     trombone  \n",
      "p0093e4b3 p0093e4b3  philharmonia          piano     trombone  \n",
      "p0096dd06 p0096dd06  philharmonia          piano     trombone  \n",
      "p009a98b9 p009a98b9  philharmonia          forte         tuba  \n",
      "p00a5d4c9 p00a5d4c9  philharmonia          forte         tuba  \n",
      "p00af8aee p00af8aee  philharmonia    mezzo-piano         tuba  \n",
      "p00c471bc p00c471bc  philharmonia     fortissimo     clarinet  \n",
      "p00e0a76b p00e0a76b  philharmonia     fortissimo         oboe  \n",
      "p00e2107e p00e2107e  philharmonia          forte     trombone  \n",
      "p00e4631e p00e4631e  philharmonia     pianissimo     trombone  \n",
      "p00e5ee2a p00e5ee2a  philharmonia          piano      bassoon  \n",
      "p00f233a4 p00f233a4  philharmonia     fortissimo      trumpet  \n",
      "p00f55f10 p00f55f10  philharmonia     pianissimo        flute  \n",
      "p01076469 p01076469  philharmonia     pianissimo     clarinet  \n",
      "p011907f9 p011907f9  philharmonia     fortissimo     clarinet  \n",
      "p011c78e1 p011c78e1  philharmonia     pianissimo         tuba  \n",
      "p012c2068 p012c2068  philharmonia    mezzo-forte  horn-french  \n",
      "p01311b36 p01311b36  philharmonia     pianissimo     clarinet  \n",
      "p013ad939 p013ad939  philharmonia     fortissimo      trumpet  \n",
      "...                           ...            ...          ...  \n",
      "ufb0fb6f7 ua88a936a         uiowa             pp  double-bass  \n",
      "          udd689160         uiowa             pp  double-bass  \n",
      "          u05bc6cea         uiowa             pp  double-bass  \n",
      "          u44775c09         uiowa             pp  double-bass  \n",
      "ufbb9681e ufd9a21f7         uiowa              p       violin  \n",
      "ufc3164e7 u9e62751d         uiowa             ff       violin  \n",
      "          u7ae9d253         uiowa             ff       violin  \n",
      "          u2204ed9b         uiowa             ff       violin  \n",
      "          u2b2a2332         uiowa             ff       violin  \n",
      "          u00b77adb         uiowa             ff       violin  \n",
      "          u0f27974c         uiowa             ff       violin  \n",
      "          u77e50cd4         uiowa             ff       violin  \n",
      "          ub89e748f         uiowa             ff       violin  \n",
      "          ua2244f09         uiowa             ff       violin  \n",
      "          u2255d871         uiowa             ff       violin  \n",
      "ufd0dacfa u920d3e4f         uiowa             ff  horn-french  \n",
      "ufd8bbf9a uf5e88f5b         uiowa             mf  double-bass  \n",
      "uff9ecd33 ufc2e25b6         uiowa             ff      trumpet  \n",
      "          u9f1a61b8         uiowa             ff      trumpet  \n",
      "          u094d9a23         uiowa             ff      trumpet  \n",
      "          ucbf65451         uiowa             ff      trumpet  \n",
      "          uc9675d8d         uiowa             ff      trumpet  \n",
      "          uabd6f13a         uiowa             ff      trumpet  \n",
      "          ubd087bff         uiowa             ff      trumpet  \n",
      "          uaa9af2b8         uiowa             ff      trumpet  \n",
      "          ubaaabe18         uiowa             ff      trumpet  \n",
      "          u710f776b         uiowa             ff      trumpet  \n",
      "          u4480f704         uiowa             ff      trumpet  \n",
      "          u74c4f3d9         uiowa             ff      trumpet  \n",
      "          u6d04a3f3         uiowa             ff      trumpet  \n",
      "\n",
      "[30174 rows x 4 columns]\n",
      "['tuba' 'flute' 'horn-french' 'trombone' 'clarinet' 'bassoon' 'trumpet'\n",
      " 'oboe' 'guitar' 'violin' 'cello' 'double-bass']\n"
     ]
    },
    {
     "ename": "TypeError",
     "evalue": "'NoneType' object is not iterable",
     "output_type": "error",
     "traceback": [
      "\u001b[0;31m---------------------------------------------------------------------------\u001b[0m",
      "\u001b[0;31mTypeError\u001b[0m                                 Traceback (most recent call last)",
      "\u001b[0;32m<ipython-input-13-4981794634de>\u001b[0m in \u001b[0;36m<module>\u001b[0;34m()\u001b[0m\n\u001b[1;32m      1\u001b[0m \u001b[0mprint\u001b[0m\u001b[0;34m(\u001b[0m\u001b[0mnotes_df\u001b[0m\u001b[0;34m)\u001b[0m\u001b[0;34m\u001b[0m\u001b[0m\n\u001b[0;32m----> 2\u001b[0;31m \u001b[0mprint\u001b[0m\u001b[0;34m(\u001b[0m\u001b[0;34m\"All:\"\u001b[0m\u001b[0;34m,\u001b[0m \u001b[0msorted\u001b[0m\u001b[0;34m(\u001b[0m\u001b[0mcheck_instruments\u001b[0m\u001b[0;34m(\u001b[0m\u001b[0mnotes_df\u001b[0m\u001b[0;34m)\u001b[0m\u001b[0;34m)\u001b[0m\u001b[0;34m)\u001b[0m\u001b[0;34m\u001b[0m\u001b[0m\n\u001b[0m\u001b[1;32m      3\u001b[0m \u001b[0;31m# print(\"RWC:\", sorted(check_instruments(notes_df[notes_df[\"dataset\"] == \"rwc\"])))\u001b[0m\u001b[0;34m\u001b[0m\u001b[0;34m\u001b[0m\u001b[0m\n\u001b[1;32m      4\u001b[0m \u001b[0;31m# print(\"RWC:\", sorted(check_instruments(notes_df[notes_df[\"dataset\"] == \"uiowa\"])))\u001b[0m\u001b[0;34m\u001b[0m\u001b[0;34m\u001b[0m\u001b[0m\n\u001b[1;32m      5\u001b[0m \u001b[0;31m# print(\"RWC:\", sorted(check_instruments(notes_df[notes_df[\"dataset\"] == \"philharmonia\"])))\u001b[0m\u001b[0;34m\u001b[0m\u001b[0;34m\u001b[0m\u001b[0m\n",
      "\u001b[0;31mTypeError\u001b[0m: 'NoneType' object is not iterable"
     ]
    }
   ],
   "source": [
    "print(notes_df)\n",
    "print(\"All:\", sorted(check_instruments(notes_df)))\n",
    "# print(\"RWC:\", sorted(check_instruments(notes_df[notes_df[\"dataset\"] == \"rwc\"])))\n",
    "# print(\"RWC:\", sorted(check_instruments(notes_df[notes_df[\"dataset\"] == \"uiowa\"])))\n",
    "# print(\"RWC:\", sorted(check_instruments(notes_df[notes_df[\"dataset\"] == \"philharmonia\"])))"
   ]
  },
  {
   "cell_type": "code",
   "execution_count": null,
   "metadata": {
    "collapsed": false
   },
   "outputs": [],
   "source": [
    "np.random.randint(2, size=12)"
   ]
  },
  {
   "cell_type": "code",
   "execution_count": null,
   "metadata": {
    "collapsed": true
   },
   "outputs": [],
   "source": []
  }
 ],
 "metadata": {
  "kernelspec": {
   "display_name": "Python 3",
   "language": "python",
   "name": "python3"
  },
  "language_info": {
   "codemirror_mode": {
    "name": "ipython",
    "version": 3
   },
   "file_extension": ".py",
   "mimetype": "text/x-python",
   "name": "python",
   "nbconvert_exporter": "python",
   "pygments_lexer": "ipython3",
   "version": "3.5.1"
  }
 },
 "nbformat": 4,
 "nbformat_minor": 0
}
